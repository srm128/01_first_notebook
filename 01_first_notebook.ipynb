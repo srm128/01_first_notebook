{
 "cells": [
  {
   "cell_type": "markdown",
   "id": "9df49bdd",
   "metadata": {},
   "source": [
    "# “Introduction”\n"
   ]
  },
  {
   "cell_type": "markdown",
   "id": "9a5bc8e4",
   "metadata": {},
   "source": [
    "# “This is my *first* Jupyter notebook\n"
   ]
  },
  {
   "cell_type": "code",
   "execution_count": 4,
   "id": "6f9442c2",
   "metadata": {},
   "outputs": [],
   "source": [
    "x = 5\n",
    "y = 6\n",
    "z = x + y\n"
   ]
  },
  {
   "cell_type": "code",
   "execution_count": 5,
   "id": "3098faff",
   "metadata": {},
   "outputs": [
    {
     "name": "stdout",
     "output_type": "stream",
     "text": [
      "11\n"
     ]
    }
   ],
   "source": [
    "print(z)"
   ]
  }
 ],
 "metadata": {
  "kernelspec": {
   "display_name": "Python 3 (ipykernel)",
   "language": "python",
   "name": "python3"
  },
  "language_info": {
   "codemirror_mode": {
    "name": "ipython",
    "version": 3
   },
   "file_extension": ".py",
   "mimetype": "text/x-python",
   "name": "python",
   "nbconvert_exporter": "python",
   "pygments_lexer": "ipython3",
   "version": "3.9.12"
  }
 },
 "nbformat": 4,
 "nbformat_minor": 5
}
